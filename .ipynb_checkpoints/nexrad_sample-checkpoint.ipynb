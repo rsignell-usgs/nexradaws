{
 "cells": [
  {
   "cell_type": "markdown",
   "metadata": {},
   "source": [
    "<h2> How to read and display Nexrad on AWS using Python </h2>\n",
    "<h4> Valliappa Lakshmanan, The Climate Corporation, lak@climate.com </h4>\n",
    "\n",
    "Amazon Web Services is making NEXRAD data <a href=\"http://aws.amazon.com/noaa-big-data/nexrad/\">freely available</a> on Amazon S3 as part of the NOAA Big Data Project. In this Python notebook, I will step you through being able to read and display this data from your Python programs.  I will assume that you know Python, how to install Python modules, and can access AWS. (Follow along by downloading and running <a href=\"https://github.com/lakshmanok/nexradaws\">this iPython notebook</a>).\n",
    "\n",
    "<h3> What you need </h3>\n",
    "\n",
    "You probably have ipython and matplotlib already. In addition, you may need to install the following Python modules:\n",
    "<ol>\n",
    "<li> <a href=\"https://boto3.readthedocs.org/en/latest/guide/quickstart.html\">boto</a> which I installed using conda: <pre>conda install boto</pre> </li>\n",
    "<li> <a href=\"http://arm-doe.github.io/pyart/\">pyart</a> which I installed using conda: <pre>conda install -c https://conda.anaconda.org/jjhelmus pyart</pre>\n",
    "</ol>\n",
    "\n",
    "You may also need to configure your AWS credentials to access S3.\n",
    "\n",
    "<h3> Import modules </h3>"
   ]
  },
  {
   "cell_type": "code",
   "execution_count": 1,
   "metadata": {
    "collapsed": false
   },
   "outputs": [
    {
     "name": "stderr",
     "output_type": "stream",
     "text": [
      "C:\\Users\\rsignell\\AppData\\Local\\Continuum\\Miniconda2\\envs\\nexradaws\\lib\\site-packages\\pyart\\graph\\__init__.py:27: UserWarning: No grid plotting support, requires basemap.\n",
      "  warnings.warn('No grid plotting support, requires basemap.')\n",
      "C:\\Users\\rsignell\\AppData\\Local\\Continuum\\Miniconda2\\envs\\nexradaws\\lib\\site-packages\\pyart\\graph\\__init__.py:33: UserWarning: No grid plotting support, requires basemap.\n",
      "  warnings.warn('No grid plotting support, requires basemap.')\n"
     ]
    }
   ],
   "source": [
    "%matplotlib inline\n",
    "\n",
    "import matplotlib.pyplot as plt\n",
    "import numpy.ma as ma\n",
    "import numpy as np\n",
    "import pyart.graph\n",
    "import tempfile\n",
    "import pyart.io\n",
    "import boto"
   ]
  },
  {
   "cell_type": "markdown",
   "metadata": {},
   "source": [
    "<h3> Find volume scan </h3>\n",
    "\n",
    "Volume scans from NEXRAD are stored on S3 such that the bucket name is noaa-nexrad-level2 and the key name is something like 2014/04/03/KLSX/KLSX20140403_211350_V06.gz i.e.  YYYY/MM/DD/KRAD/KRADYYYYMMDD_HHmmSS_V0?.gz. You can use the boto library to browse and select the keys that you want. \n",
    "\n",
    "Here, I'll directly navigate to a NEXRAD file that I know exists."
   ]
  },
  {
   "cell_type": "code",
   "execution_count": 2,
   "metadata": {
    "collapsed": false,
    "scrolled": true
   },
   "outputs": [
    {
     "name": "stderr",
     "output_type": "stream",
     "text": [
      "ERROR:boto:Caught exception reading instance data\n",
      "Traceback (most recent call last):\n",
      "  File \"C:\\Users\\rsignell\\AppData\\Local\\Continuum\\Miniconda2\\envs\\nexradaws\\lib\\site-packages\\boto\\utils.py\", line 210, in retry_url\n",
      "    r = opener.open(req, timeout=timeout)\n",
      "  File \"C:\\Users\\rsignell\\AppData\\Local\\Continuum\\Miniconda2\\envs\\nexradaws\\lib\\urllib2.py\", line 431, in open\n",
      "    response = self._open(req, data)\n",
      "  File \"C:\\Users\\rsignell\\AppData\\Local\\Continuum\\Miniconda2\\envs\\nexradaws\\lib\\urllib2.py\", line 449, in _open\n",
      "    '_open', req)\n",
      "  File \"C:\\Users\\rsignell\\AppData\\Local\\Continuum\\Miniconda2\\envs\\nexradaws\\lib\\urllib2.py\", line 409, in _call_chain\n",
      "    result = func(*args)\n",
      "  File \"C:\\Users\\rsignell\\AppData\\Local\\Continuum\\Miniconda2\\envs\\nexradaws\\lib\\urllib2.py\", line 1227, in http_open\n",
      "    return self.do_open(httplib.HTTPConnection, req)\n",
      "  File \"C:\\Users\\rsignell\\AppData\\Local\\Continuum\\Miniconda2\\envs\\nexradaws\\lib\\urllib2.py\", line 1197, in do_open\n",
      "    raise URLError(err)\n",
      "URLError: <urlopen error [Errno 10051] A socket operation was attempted to an unreachable network>\n",
      "ERROR:boto:Unable to read instance data, giving up\n"
     ]
    },
    {
     "ename": "NoAuthHandlerFound",
     "evalue": "No handler was ready to authenticate. 1 handlers were checked. ['HmacAuthV1Handler'] Check your credentials",
     "output_type": "error",
     "traceback": [
      "\u001b[1;31m---------------------------------------------------------------------------\u001b[0m",
      "\u001b[1;31mNoAuthHandlerFound\u001b[0m                        Traceback (most recent call last)",
      "\u001b[1;32m<ipython-input-2-37840572afac>\u001b[0m in \u001b[0;36m<module>\u001b[1;34m()\u001b[0m\n\u001b[0;32m      1\u001b[0m \u001b[1;31m# read a volume scan file on S3. I happen to know this file exists.\u001b[0m\u001b[1;33m\u001b[0m\u001b[1;33m\u001b[0m\u001b[0m\n\u001b[1;32m----> 2\u001b[1;33m \u001b[0ms3conn\u001b[0m \u001b[1;33m=\u001b[0m \u001b[0mboto\u001b[0m\u001b[1;33m.\u001b[0m\u001b[0mconnect_s3\u001b[0m\u001b[1;33m(\u001b[0m\u001b[1;33m)\u001b[0m\u001b[1;33m\u001b[0m\u001b[0m\n\u001b[0m\u001b[0;32m      3\u001b[0m \u001b[0mbucket\u001b[0m \u001b[1;33m=\u001b[0m \u001b[0ms3conn\u001b[0m\u001b[1;33m.\u001b[0m\u001b[0mget_bucket\u001b[0m\u001b[1;33m(\u001b[0m\u001b[1;34m'noaa-nexrad-level2'\u001b[0m\u001b[1;33m)\u001b[0m\u001b[1;33m\u001b[0m\u001b[0m\n\u001b[0;32m      4\u001b[0m \u001b[0ms3key\u001b[0m \u001b[1;33m=\u001b[0m \u001b[0mbucket\u001b[0m\u001b[1;33m.\u001b[0m\u001b[0mget_key\u001b[0m\u001b[1;33m(\u001b[0m\u001b[1;34m'2015/05/15/KVWX/KVWX20150515_080737_V06.gz'\u001b[0m\u001b[1;33m)\u001b[0m\u001b[1;33m\u001b[0m\u001b[0m\n\u001b[0;32m      5\u001b[0m \u001b[1;32mprint\u001b[0m \u001b[0ms3key\u001b[0m\u001b[1;33m\u001b[0m\u001b[0m\n",
      "\u001b[1;32mC:\\Users\\rsignell\\AppData\\Local\\Continuum\\Miniconda2\\envs\\nexradaws\\lib\\site-packages\\boto\\__init__.pyc\u001b[0m in \u001b[0;36mconnect_s3\u001b[1;34m(aws_access_key_id, aws_secret_access_key, **kwargs)\u001b[0m\n\u001b[0;32m    139\u001b[0m     \"\"\"\n\u001b[0;32m    140\u001b[0m     \u001b[1;32mfrom\u001b[0m \u001b[0mboto\u001b[0m\u001b[1;33m.\u001b[0m\u001b[0ms3\u001b[0m\u001b[1;33m.\u001b[0m\u001b[0mconnection\u001b[0m \u001b[1;32mimport\u001b[0m \u001b[0mS3Connection\u001b[0m\u001b[1;33m\u001b[0m\u001b[0m\n\u001b[1;32m--> 141\u001b[1;33m     \u001b[1;32mreturn\u001b[0m \u001b[0mS3Connection\u001b[0m\u001b[1;33m(\u001b[0m\u001b[0maws_access_key_id\u001b[0m\u001b[1;33m,\u001b[0m \u001b[0maws_secret_access_key\u001b[0m\u001b[1;33m,\u001b[0m \u001b[1;33m**\u001b[0m\u001b[0mkwargs\u001b[0m\u001b[1;33m)\u001b[0m\u001b[1;33m\u001b[0m\u001b[0m\n\u001b[0m\u001b[0;32m    142\u001b[0m \u001b[1;33m\u001b[0m\u001b[0m\n\u001b[0;32m    143\u001b[0m \u001b[1;33m\u001b[0m\u001b[0m\n",
      "\u001b[1;32mC:\\Users\\rsignell\\AppData\\Local\\Continuum\\Miniconda2\\envs\\nexradaws\\lib\\site-packages\\boto\\s3\\connection.pyc\u001b[0m in \u001b[0;36m__init__\u001b[1;34m(self, aws_access_key_id, aws_secret_access_key, is_secure, port, proxy, proxy_port, proxy_user, proxy_pass, host, debug, https_connection_factory, calling_format, path, provider, bucket_class, security_token, suppress_consec_slashes, anon, validate_certs, profile_name)\u001b[0m\n\u001b[0;32m    188\u001b[0m                 \u001b[0mpath\u001b[0m\u001b[1;33m=\u001b[0m\u001b[0mpath\u001b[0m\u001b[1;33m,\u001b[0m \u001b[0mprovider\u001b[0m\u001b[1;33m=\u001b[0m\u001b[0mprovider\u001b[0m\u001b[1;33m,\u001b[0m \u001b[0msecurity_token\u001b[0m\u001b[1;33m=\u001b[0m\u001b[0msecurity_token\u001b[0m\u001b[1;33m,\u001b[0m\u001b[1;33m\u001b[0m\u001b[0m\n\u001b[0;32m    189\u001b[0m                 \u001b[0msuppress_consec_slashes\u001b[0m\u001b[1;33m=\u001b[0m\u001b[0msuppress_consec_slashes\u001b[0m\u001b[1;33m,\u001b[0m\u001b[1;33m\u001b[0m\u001b[0m\n\u001b[1;32m--> 190\u001b[1;33m                 validate_certs=validate_certs, profile_name=profile_name)\n\u001b[0m\u001b[0;32m    191\u001b[0m         \u001b[1;31m# We need to delay until after the call to ``super`` before checking\u001b[0m\u001b[1;33m\u001b[0m\u001b[1;33m\u001b[0m\u001b[0m\n\u001b[0;32m    192\u001b[0m         \u001b[1;31m# to see if SigV4 is in use.\u001b[0m\u001b[1;33m\u001b[0m\u001b[1;33m\u001b[0m\u001b[0m\n",
      "\u001b[1;32mC:\\Users\\rsignell\\AppData\\Local\\Continuum\\Miniconda2\\envs\\nexradaws\\lib\\site-packages\\boto\\connection.pyc\u001b[0m in \u001b[0;36m__init__\u001b[1;34m(self, host, aws_access_key_id, aws_secret_access_key, is_secure, port, proxy, proxy_port, proxy_user, proxy_pass, debug, https_connection_factory, path, provider, security_token, suppress_consec_slashes, validate_certs, profile_name)\u001b[0m\n\u001b[0;32m    567\u001b[0m         \u001b[0mself\u001b[0m\u001b[1;33m.\u001b[0m\u001b[0m_last_rs\u001b[0m \u001b[1;33m=\u001b[0m \u001b[0mNone\u001b[0m\u001b[1;33m\u001b[0m\u001b[0m\n\u001b[0;32m    568\u001b[0m         self._auth_handler = auth.get_auth_handler(\n\u001b[1;32m--> 569\u001b[1;33m             host, config, self.provider, self._required_auth_capability())\n\u001b[0m\u001b[0;32m    570\u001b[0m         \u001b[1;32mif\u001b[0m \u001b[0mgetattr\u001b[0m\u001b[1;33m(\u001b[0m\u001b[0mself\u001b[0m\u001b[1;33m,\u001b[0m \u001b[1;34m'AuthServiceName'\u001b[0m\u001b[1;33m,\u001b[0m \u001b[0mNone\u001b[0m\u001b[1;33m)\u001b[0m \u001b[1;32mis\u001b[0m \u001b[1;32mnot\u001b[0m \u001b[0mNone\u001b[0m\u001b[1;33m:\u001b[0m\u001b[1;33m\u001b[0m\u001b[0m\n\u001b[0;32m    571\u001b[0m             \u001b[0mself\u001b[0m\u001b[1;33m.\u001b[0m\u001b[0mauth_service_name\u001b[0m \u001b[1;33m=\u001b[0m \u001b[0mself\u001b[0m\u001b[1;33m.\u001b[0m\u001b[0mAuthServiceName\u001b[0m\u001b[1;33m\u001b[0m\u001b[0m\n",
      "\u001b[1;32mC:\\Users\\rsignell\\AppData\\Local\\Continuum\\Miniconda2\\envs\\nexradaws\\lib\\site-packages\\boto\\auth.pyc\u001b[0m in \u001b[0;36mget_auth_handler\u001b[1;34m(host, config, provider, requested_capability)\u001b[0m\n\u001b[0;32m    985\u001b[0m             \u001b[1;34m'No handler was ready to authenticate. %d handlers were checked.'\u001b[0m\u001b[1;33m\u001b[0m\u001b[0m\n\u001b[0;32m    986\u001b[0m             \u001b[1;34m' %s '\u001b[0m\u001b[1;33m\u001b[0m\u001b[0m\n\u001b[1;32m--> 987\u001b[1;33m             'Check your credentials' % (len(names), str(names)))\n\u001b[0m\u001b[0;32m    988\u001b[0m \u001b[1;33m\u001b[0m\u001b[0m\n\u001b[0;32m    989\u001b[0m     \u001b[1;31m# We select the last ready auth handler that was loaded, to allow users to\u001b[0m\u001b[1;33m\u001b[0m\u001b[1;33m\u001b[0m\u001b[0m\n",
      "\u001b[1;31mNoAuthHandlerFound\u001b[0m: No handler was ready to authenticate. 1 handlers were checked. ['HmacAuthV1Handler'] Check your credentials"
     ]
    }
   ],
   "source": [
    "# read a volume scan file on S3. I happen to know this file exists.\n",
    "s3conn = boto.connect_s3()\n",
    "bucket = s3conn.get_bucket('noaa-nexrad-level2')\n",
    "s3key = bucket.get_key('2015/05/15/KVWX/KVWX20150515_080737_V06.gz')\n",
    "print s3key"
   ]
  },
  {
   "cell_type": "markdown",
   "metadata": {},
   "source": [
    "<h3> Download volume scan from S3 </h3>\n",
    "\n",
    "For further processing, it is helpful to have the file locally on disk."
   ]
  },
  {
   "cell_type": "code",
   "execution_count": null,
   "metadata": {
    "collapsed": true
   },
   "outputs": [],
   "source": [
    "# download to a local file, and read it\n",
    "localfile = tempfile.NamedTemporaryFile()\n",
    "s3key.get_contents_to_filename(localfile.name)\n",
    "radar = pyart.io.read_nexrad_archive(localfile.name)"
   ]
  },
  {
   "cell_type": "markdown",
   "metadata": {},
   "source": [
    "<h3> Display the data </h3>\n",
    "\n",
    "Here, I am using PyArt to display the lowest elevation scan data of all the moments."
   ]
  },
  {
   "cell_type": "code",
   "execution_count": null,
   "metadata": {
    "collapsed": false
   },
   "outputs": [],
   "source": [
    "# display the lowest elevation scan data\n",
    "display = pyart.graph.RadarDisplay(radar)\n",
    "fig = plt.figure(figsize=(10, 10))\n",
    "\n",
    "plots = [\n",
    "    # variable-name in pyart, display-name that we want, sweep-number of radar (0=lowest ref, 1=lowest velocity)\n",
    "    ['reflectivity', 'Reflectivity (dBZ)', 0],\n",
    "    ['differential_reflectivity', 'Zdr (dB)', 0],\n",
    "    ['differential_phase', 'Phi_DP (deg)', 0],\n",
    "    ['cross_correlation_ratio', 'Rho_HV', 0],\n",
    "    ['velocity', 'Velocity (m/s)', 1],\n",
    "    ['spectrum_width', 'Spectrum Width', 1]\n",
    "]\n",
    "\n",
    "for plotno, plot in enumerate(plots, start=1):\n",
    "    ax = fig.add_subplot(3, 2, plotno)\n",
    "    display.plot(plot[0], plot[2], ax=ax, title=plot[1],\n",
    "             colorbar_label='',\n",
    "             axislabels=('East-West distance from radar (km)' if plotno == 6 else '', \n",
    "                         'North-South distance from radar (km)' if plotno == 1 else ''))\n",
    "    display.set_limits((-300, 300), (-300, 300), ax=ax)\n",
    "\n",
    "plt.show()"
   ]
  },
  {
   "cell_type": "markdown",
   "metadata": {},
   "source": [
    "<h3> Processing data </h3>\n",
    "\n",
    "Not all the reflectivity above is because of weather echoes. Most of the data are actually bioscatter (insects and birds). Let's mask the reflectivity data using the polarimetric variables to retain only approximately spherical echoes (this is not actually a good quality-control technique -- see http://journals.ametsoc.org/doi/abs/10.1175/JTECH-D-13-00073.1 -- but it is okay as a simple illustration)."
   ]
  },
  {
   "cell_type": "code",
   "execution_count": null,
   "metadata": {
    "collapsed": false
   },
   "outputs": [],
   "source": [
    "refl_grid = radar.get_field(0, 'reflectivity')\n",
    "print refl_grid[0]\n",
    "rhohv_grid = radar.get_field(0, 'cross_correlation_ratio')\n",
    "zdr_grid = radar.get_field(0, 'differential_reflectivity')\n",
    "\n",
    "# apply rudimentary quality control\n",
    "reflow = np.less(refl_grid, 20)\n",
    "zdrhigh = np.greater(np.abs(zdr_grid), 2.3)\n",
    "rhohvlow = np.less(rhohv_grid, 0.95)\n",
    "notweather = np.logical_or(reflow, np.logical_or(zdrhigh, rhohvlow))\n",
    "print notweather[0]\n",
    "\n",
    "qcrefl_grid = ma.masked_where(notweather, refl_grid)\n",
    "print qcrefl_grid[0]"
   ]
  },
  {
   "cell_type": "code",
   "execution_count": null,
   "metadata": {
    "collapsed": false
   },
   "outputs": [],
   "source": [
    "# let's create a new object containing only sweep=0 so we can add the QC'ed ref to it for plotting\n",
    "qced = radar.extract_sweeps([0])\n",
    "qced.add_field_like('reflectivity', 'reflectivityqc', qcrefl_grid)\n",
    "display = pyart.graph.RadarDisplay(qced)\n",
    "fig = plt.figure(figsize=(10, 5))\n",
    "\n",
    "plots = [\n",
    "    # variable-name in pyart, display-name that we want, sweep-number of radar (0=lowest ref, 1=lowest velocity)\n",
    "    ['reflectivity', 'Reflectivity (dBZ)', 0],\n",
    "    ['reflectivityqc', 'QCed Reflectivity (dBZ)', 0],\n",
    "]\n",
    "\n",
    "for plotno, plot in enumerate(plots, start=1):\n",
    "    ax = fig.add_subplot(1, 2, plotno)\n",
    "    display.plot(plot[0], plot[2], ax=ax, title=plot[1],\n",
    "             colorbar_label='',\n",
    "             axislabels=('East-West distance from radar (km)' if plotno == 2 else '', \n",
    "                         'North-South distance from radar (km)' if plotno == 1 else ''))\n",
    "    display.set_limits((-300, 300), (-300, 300), ax=ax)\n",
    "\n",
    "plt.show()"
   ]
  },
  {
   "cell_type": "markdown",
   "metadata": {},
   "source": [
    "It is easy to see that the quality control method is quite rudimentary. The resulting field is very noisy, for one. You can see another problem in that the QCed reflectivity above is limited in range because the polarimetric radar variables do not go out to the extent of the reflectivity scan.\n",
    "\n",
    "<h3> Acknowledgment </h3>\n",
    "\n",
    "Thanks to NOAA and Amazon for making the NEXRAD data available."
   ]
  }
 ],
 "metadata": {
  "kernelspec": {
   "display_name": "Python 2",
   "language": "python",
   "name": "python2"
  },
  "language_info": {
   "codemirror_mode": {
    "name": "ipython",
    "version": 2
   },
   "file_extension": ".py",
   "mimetype": "text/x-python",
   "name": "python",
   "nbconvert_exporter": "python",
   "pygments_lexer": "ipython2",
   "version": "2.7.11"
  }
 },
 "nbformat": 4,
 "nbformat_minor": 0
}
